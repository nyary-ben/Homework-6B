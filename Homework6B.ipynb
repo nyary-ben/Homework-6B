{
  "nbformat": 4,
  "nbformat_minor": 0,
  "metadata": {
    "colab": {
      "provenance": [],
      "authorship_tag": "ABX9TyNJ5tpOb2do3ossmKZVSYPH",
      "include_colab_link": true
    },
    "kernelspec": {
      "name": "python3",
      "display_name": "Python 3"
    },
    "language_info": {
      "name": "python"
    }
  },
  "cells": [
    {
      "cell_type": "markdown",
      "metadata": {
        "id": "view-in-github",
        "colab_type": "text"
      },
      "source": [
        "<a href=\"https://colab.research.google.com/github/nyary-ben/Homework-6B/blob/main/Homework6B.ipynb\" target=\"_parent\"><img src=\"https://colab.research.google.com/assets/colab-badge.svg\" alt=\"Open In Colab\"/></a>"
      ]
    },
    {
      "cell_type": "code",
      "execution_count": 1,
      "metadata": {
        "id": "z3VDXIvEluil"
      },
      "outputs": [],
      "source": [
        "!pip install whit-phys-util 1>/dev/null"
      ]
    },
    {
      "cell_type": "code",
      "source": [
        "import pandas as pd\n",
        "import whit_phys_util as buc\n",
        "import numpy as np\n",
        "import matplotlib.pyplot as plt\n",
        "from numpy import pi, exp, sqrt"
      ],
      "metadata": {
        "id": "roFJQfYBl7Pt"
      },
      "execution_count": 2,
      "outputs": []
    },
    {
      "cell_type": "code",
      "source": [
        "# %matplotlib inline\n",
        "# %config InlineBackend.figure_format = 'svg'"
      ],
      "metadata": {
        "id": "wr0kpDFbtZj1"
      },
      "execution_count": 3,
      "outputs": []
    },
    {
      "cell_type": "code",
      "source": [
        "repo = buc.local_repository(\"https://github.com/nyary-ben/Homework-6B\")"
      ],
      "metadata": {
        "colab": {
          "base_uri": "https://localhost:8080/"
        },
        "id": "LrIZXDl1mFSI",
        "outputId": "51a7dab4-a6a7-4d8e-fddd-55cb19a52daf"
      },
      "execution_count": 4,
      "outputs": [
        {
          "output_type": "stream",
          "name": "stdout",
          "text": [
            "Repository exists at this location. Pulling changes from GitHub.\n"
          ]
        }
      ]
    },
    {
      "cell_type": "markdown",
      "source": [
        "# Problem 6.23"
      ],
      "metadata": {
        "id": "YCWZr55smVio"
      }
    },
    {
      "cell_type": "markdown",
      "source": [
        "### Part a\n",
        "* The formula to be used with N+1 terms is $Z_{rot,N}$ = $\\sum (2j+1)e^{-j(j+1) \\epsilon \\beta}$ where $\\beta$ = $\\frac{1}{kT}$."
      ],
      "metadata": {
        "id": "A5_uHJPmmiqM"
      }
    },
    {
      "cell_type": "code",
      "source": [
        "epsi = 0.00024 #eV\n",
        "T  = 300 # K\n",
        "k = 8.617*10**-5 #eV/K\n",
        "beta = 1/(k*T)\n",
        "\n",
        "def Z_rot(n_array):\n",
        "    results = []\n",
        "    for N in n_array:\n",
        "        N = int(N)\n",
        "        Z = 0\n",
        "        for j in range(N + 1):\n",
        "            Z += ((2 * j) + 1) * np.exp(-j * (j + 1) * epsi * beta)\n",
        "        results.append(Z)\n",
        "    return np.array(results)"
      ],
      "metadata": {
        "id": "LEkpWK7-mLYG"
      },
      "execution_count": 5,
      "outputs": []
    },
    {
      "cell_type": "code",
      "source": [
        "x_vals = np.linspace(1e-9, 50, 100)\n",
        "y_vals = Z_rot(x_vals)\n",
        "\n",
        "fig, ax1 = plt.subplots()\n",
        "ax1.plot(x_vals, y_vals)\n",
        "ax1.set_xlabel('N')\n",
        "ax1.set_ylabel('Z_rot')\n",
        "ax1.set_xlim(0, 50)\n",
        "ax1.set_ylim(0, 120)\n"
      ],
      "metadata": {
        "colab": {
          "base_uri": "https://localhost:8080/",
          "height": 473
        },
        "id": "mRVjr8A4mwEM",
        "outputId": "b49133d3-8c74-44ea-a808-8bb963e17e3f"
      },
      "execution_count": 6,
      "outputs": [
        {
          "output_type": "execute_result",
          "data": {
            "text/plain": [
              "(0.0, 120.0)"
            ]
          },
          "metadata": {},
          "execution_count": 6
        },
        {
          "output_type": "display_data",
          "data": {
            "text/plain": [
              "<Figure size 640x480 with 1 Axes>"
            ],
            "image/png": "[encoded data removed]"
          },
          "metadata": {}
        }
      ]
    },
    {
      "cell_type": "markdown",
      "source": [
        "### Part b\n",
        "* The value of $Z_{rot}$ at $N$ = $50$ is $Z_{rot}$ = $108.05$."
      ],
      "metadata": {
        "id": "YuBsyPwe2bOC"
      }
    },
    {
      "cell_type": "markdown",
      "source": [
        "### Part c\n",
        "* $1 \\%$ of $108.05$ = $1.0805$.\n",
        "* To be within the range of this value, the closest value of $Z_{rot}$ = $1$ which will be at $N$ = $0$."
      ],
      "metadata": {
        "id": "upDjwxX53CCZ"
      }
    },
    {
      "cell_type": "markdown",
      "source": [
        "### Part d\n",
        "* The high temperature formula is $Z_{rot-high}$ = $\\frac {kT}{\\epsilon}$.\n",
        "* The $Z_{rot-high}$ = $107.71$"
      ],
      "metadata": {
        "id": "svC5EYIH4nWM"
      }
    },
    {
      "cell_type": "code",
      "source": [
        "kT = k * T\n",
        "Z_rot_high = kT / epsi\n",
        "print(Z_rot_high)"
      ],
      "metadata": {
        "colab": {
          "base_uri": "https://localhost:8080/"
        },
        "id": "MLiwxTlesOXu",
        "outputId": "30cf6cd3-556c-43e2-d43e-72c65304667b"
      },
      "execution_count": 7,
      "outputs": [
        {
          "output_type": "stream",
          "name": "stdout",
          "text": [
            "107.7125\n"
          ]
        }
      ]
    },
    {
      "cell_type": "markdown",
      "source": [
        "### Part e\n",
        "* Percent error is $0.32 \\%$"
      ],
      "metadata": {
        "id": "aRnXtJbN5wYq"
      }
    },
    {
      "cell_type": "code",
      "source": [
        "PE = (108.05-107.71)/107.71*100\n",
        "print(PE)"
      ],
      "metadata": {
        "colab": {
          "base_uri": "https://localhost:8080/"
        },
        "id": "GvlsFlkK52bo",
        "outputId": "a3662a6b-8e78-4bd6-bbd3-2f01bf51abc1"
      },
      "execution_count": 8,
      "outputs": [
        {
          "output_type": "stream",
          "name": "stdout",
          "text": [
            "0.3156624268870146\n"
          ]
        }
      ]
    },
    {
      "cell_type": "markdown",
      "source": [
        "# Problem 6.29"
      ],
      "metadata": {
        "id": "1V47YYgz6joI"
      }
    },
    {
      "cell_type": "markdown",
      "source": [
        "### Part a\n",
        "* We know that HD molecule is a perfectly harmonic molecule as it has a relatively small moment of inertia.\n",
        "* So we know that $E_{(s)}$ = $j(j+1)\\epsilon$ and $C$ = $\\frac{1}{kT^2} \\sigma^2$.\n",
        "* $Z$ = $\\sum (2j+1)e^{-j(j+1)\\epsilon\\beta}$ and $\\sigma^2$ = $\\frac{1}{Z}\\sum\\epsilon^2e^{-j(j+1)\\epsilon\\beta}(2j^5+5j^4+4j^3+j^2)$ - $\\frac{1}{Z^2}\\sum\\epsilon^2e^{-2j(j+1)\\epsilon\\beta}(2j^3+3j^2+j)^2$."
      ],
      "metadata": {
        "id": "8G8J8rAE5jro"
      }
    },
    {
      "cell_type": "markdown",
      "source": [
        "### Part b"
      ],
      "metadata": {
        "id": "ecb4uD7BZwkd"
      }
    },
    {
      "cell_type": "code",
      "source": [
        "epsi = 0.0057 #eV\n",
        "k = 8.617*10**-5 #eV/K\n",
        "def Z(N, Tb):\n",
        "  Z = 0\n",
        "  for j in range(2):\n",
        "    Z += ((2*j)+1)*np.exp(-(epsi*j*(j+1))/(k*Tb))\n",
        "  return Z\n",
        "\n",
        "def sigsq(Tb):\n",
        "  sigsq = 0\n",
        "  for j in range(2):\n",
        "      term1 = ((2*j**5 + 5*j**4 + 4*j**3 + j**2) * (epsi**2) * np.exp(-(epsi*j*(j+1)) / (k*Tb))) / Z(2, Tb)\n",
        "      term2 = ((2*j**3 + 3*j**2 + j)**2 * (epsi**2) * np.exp(-(2*epsi*j*(j+1)) / (k*Tb))) / Z(2, Tb)**2\n",
        "      sigsq += term1 - term2\n",
        "  return sigsq\n",
        "def C(Tb):\n",
        "  return 1/(k*(Tb**2))*sigsq(Tb)\n",
        "R = 8.314/(1.602*10**-19) # eV/mol*K\n",
        "f = 5 #degrees of freedom of diatomic molecule\n",
        "C_equi = (f*R*2)/(2*(6.022*10**23))"
      ],
      "metadata": {
        "id": "AsDdm_oX6o8g"
      },
      "execution_count": 9,
      "outputs": []
    },
    {
      "cell_type": "code",
      "source": [
        "x_vals1 = np.linspace(1, 300, 1000)\n",
        "\n",
        "fig, ax2 = plt.subplots()\n",
        "\n",
        "ax2.plot(x_vals1, np.full_like(x_vals1, C_equi), color='blue', label='C_equi')\n",
        "ax2.plot(x_vals1, C(x_vals1), color='red', label='C_si');\n",
        "ax2.set_xlabel('T (K)');\n",
        "ax2.set_ylabel('C');\n",
        "ax2.set_xlim(0, 300);\n",
        "ax2.legend();\n"
      ],
      "metadata": {
        "colab": {
          "base_uri": "https://localhost:8080/",
          "height": 449
        },
        "id": "URdERww8o_Xx",
        "outputId": "3fa27fae-3b92-4a04-99ee-586e48941b53"
      },
      "execution_count": 10,
      "outputs": [
        {
          "output_type": "display_data",
          "data": {
            "text/plain": [
              "<Figure size 640x480 with 1 Axes>"
            ],
            "image/png": "[encoded data removed]"
          },
          "metadata": {}
        }
      ]
    },
    {
      "cell_type": "markdown",
      "source": [
        "### Part c\n",
        "* I would guess the answer to be around 45K as that would be where the peak of $C_{si}$ would be. I know that the graph should look like the two lines cross each other and assuming that my $C_{si}$ would have an arithmetic error, I would make an estimated guess."
      ],
      "metadata": {
        "id": "7Jv488ThDRz6"
      }
    },
    {
      "cell_type": "markdown",
      "source": [
        "# Problem 6.33\n",
        "The Maxwell distribution of speeds for an ideal gas like $O_{2}$ molecule is\n",
        "$$D(v) = \\frac{4}{\\sqrt{\\pi}} v^2 e^{-v^2}$$\n",
        "where $v$ is in units of $v_0 = \\sqrt{2kT/m}$"
      ],
      "metadata": {
        "id": "KbETH-H8DzIO"
      }
    },
    {
      "cell_type": "code",
      "source": [
        "def D(v):\n",
        "  return 4/sqrt(pi)*v**2*exp(-v**2)\n",
        "k3 = 1.381*10**-23 # J/K\n",
        "T3 = 300 #K\n",
        "m = 0.032/(6.022*10**23) #kg\n",
        "v_0 = np.sqrt((2*k3*T3)/m) #m/s"
      ],
      "metadata": {
        "id": "b-rGaUQsL23L"
      },
      "execution_count": 11,
      "outputs": []
    },
    {
      "cell_type": "markdown",
      "source": [
        "### Most probable speed"
      ],
      "metadata": {
        "id": "WWoN1w0BHvMq"
      }
    },
    {
      "cell_type": "code",
      "source": [
        "fig, ax = plt.subplots()\n",
        "v = np.linspace(0,4,1000)\n",
        "ax.plot(v,D(v));\n",
        "ax.set_xlabel('$v/v_0$');\n",
        "ax.set_ylabel('$D(v)$');\n",
        "ax.set_xlim(0,4);\n",
        "ax.set_ylim(0,1);"
      ],
      "metadata": {
        "colab": {
          "base_uri": "https://localhost:8080/",
          "height": 457
        },
        "id": "O_o2ZkjgHxjQ",
        "outputId": "f46972c3-bde9-4ba3-d96a-6baa422df034"
      },
      "execution_count": 12,
      "outputs": [
        {
          "output_type": "display_data",
          "data": {
            "text/plain": [
              "<Figure size 640x480 with 1 Axes>"
            ],
            "image/png": "[encoded data removed]"
          },
          "metadata": {}
        }
      ]
    },
    {
      "cell_type": "markdown",
      "source": [
        "* Most problable speed occurs where the slope of the curve is 0."
      ],
      "metadata": {
        "id": "xA-jeekJMZnH"
      }
    },
    {
      "cell_type": "code",
      "source": [
        "from scipy.optimize import minimize_scalar\n",
        "vmp1 = minimize_scalar(lambda v: -D(v), bounds=(0,4)).x\n",
        "vmp = vmp1*v_0\n",
        "print(f'The most probable speed is {vmp:.2f} m/s')"
      ],
      "metadata": {
        "colab": {
          "base_uri": "https://localhost:8080/"
        },
        "id": "QCTIhdbYMYoY",
        "outputId": "96af0cde-df77-4654-a2d5-c3b6c1b19be2"
      },
      "execution_count": 13,
      "outputs": [
        {
          "output_type": "stream",
          "name": "stdout",
          "text": [
            "The most probable speed is 394.88 m/s\n"
          ]
        }
      ]
    },
    {
      "cell_type": "markdown",
      "source": [
        "### Average speed\n",
        "* This occurs at the integral of $vD(v)$ over 0 to infinity."
      ],
      "metadata": {
        "id": "7LGgCXztHyb0"
      }
    },
    {
      "cell_type": "code",
      "source": [
        "from scipy.integrate import quad\n",
        "integral_results = quad(lambda v: v*D(v),0,np.inf)\n",
        "vavg1 = integral_results[0]\n",
        "vavg = vavg1*v_0\n",
        "print(f'The average speed is {vavg:.2f} m/s')"
      ],
      "metadata": {
        "colab": {
          "base_uri": "https://localhost:8080/"
        },
        "id": "isSycP2uH1n1",
        "outputId": "aa1937e3-b6f8-4134-bf10-436eee6c136b"
      },
      "execution_count": 14,
      "outputs": [
        {
          "output_type": "stream",
          "name": "stdout",
          "text": [
            "The average speed is 445.58 m/s\n"
          ]
        }
      ]
    },
    {
      "cell_type": "markdown",
      "source": [
        "### RMS speed\n",
        "* This occurs at the square root of the integral of $v^2D(v)$."
      ],
      "metadata": {
        "id": "CGdHZ_1UNXFH"
      }
    },
    {
      "cell_type": "code",
      "source": [
        "vrms1 = sqrt(quad(lambda v: v**2*D(v),0,np.inf)[0])\n",
        "vrms = vrms1*v_0\n",
        "print(f'The rms speed is {vrms:.2f} m/s')"
      ],
      "metadata": {
        "colab": {
          "base_uri": "https://localhost:8080/"
        },
        "id": "Cjlv2igINY2u",
        "outputId": "938d048f-ce09-40f2-bcec-7bc3e09e0392"
      },
      "execution_count": 15,
      "outputs": [
        {
          "output_type": "stream",
          "name": "stdout",
          "text": [
            "The rms speed is 483.63 m/s\n"
          ]
        }
      ]
    },
    {
      "cell_type": "markdown",
      "source": [
        "# Problem 6.34\n",
        "$$D(v) = (\\frac{m}{2\\pi kT})^{1.5} 4\\pi v^2 e^{-\\frac{mv^2}{2kT}}$$"
      ],
      "metadata": {
        "id": "Se-k2xj7Ot2a"
      }
    },
    {
      "cell_type": "code",
      "source": [
        "m_ni = 0.028/(6.022*10**23) #kg\n",
        "T_ni1 = 300 #K\n",
        "T_ni2 = 600 #K\n",
        "C_1 = 4*np.pi*(m_ni/(2*np.pi*k3*T_ni1))**1.5\n",
        "C_2 = 4*np.pi*(m_ni/(2*np.pi*k3*T_ni2))**1.5\n",
        "e_1 = m_ni/(2*k3*T_ni1)\n",
        "e_2 = m_ni/(2*k3*T_ni2)\n",
        "\n",
        "def D_1(v):\n",
        "  return np.exp(-e_1*v**2)*C_1*v**2\n",
        "def D_2(v):\n",
        "  return np.exp(-e_2*v**2)*C_2*v**2\n"
      ],
      "metadata": {
        "id": "ERVfPuSlO808"
      },
      "execution_count": 16,
      "outputs": []
    },
    {
      "cell_type": "code",
      "source": [
        "x_vals2 = np.linspace(0, 2000, 10000)\n",
        "\n",
        "fig, ax3 = plt.subplots()\n",
        "\n",
        "ax3.plot(x_vals2, D_1(x_vals2), color='blue', label='D_300');\n",
        "ax3.plot(x_vals2, D_2(x_vals2), color='red', label='D_600');\n",
        "ax3.set_xlabel('T (K)');\n",
        "ax3.set_ylabel('D(v)');\n",
        "ax3.set_xlim(0, 2000);\n",
        "ax3.legend();"
      ],
      "metadata": {
        "colab": {
          "base_uri": "https://localhost:8080/",
          "height": 449
        },
        "id": "SFGZZ6Vbr8Fh",
        "outputId": "dc1c8942-bb05-483a-d05c-c2a653e4dfa1"
      },
      "execution_count": 17,
      "outputs": [
        {
          "output_type": "display_data",
          "data": {
            "text/plain": [
              "<Figure size 640x480 with 1 Axes>"
            ],
            "image/png": "[encoded data removed]"
          },
          "metadata": {}
        }
      ]
    },
    {
      "cell_type": "markdown",
      "source": [
        "# Problem 6.39"
      ],
      "metadata": {
        "id": "Z0cxpsR_tFyf"
      }
    },
    {
      "cell_type": "markdown",
      "source": [
        "### Part a\n",
        "* We will have to find the probability ($v>11,000m/s$) = $4\\pi(\\frac{m}{2\\pi kT})^{1.5} \\int_{11000 m/s}^{\\infty}{v^2e^{-\\frac{mv^2}{2kT}}dv}$\n",
        "* But I will use the version in which it is equal to $$P = \\frac{4}{\\sqrt \\pi}\\int_{x_{min}}^{\\infty}{x^2e^{-x^2}dx}$$ where $x_{min}$ = $\\frac{v}{v_{max}}$ and $x$ = $v\\sqrt \\frac{m}{2kT}$."
      ],
      "metadata": {
        "id": "I3ia6E5FtLzw"
      }
    },
    {
      "cell_type": "code",
      "source": [
        "T_ea = 1000 #K\n",
        "x_min = 11000/422\n",
        "C_ea = 4*np.sqrt(np.pi)\n",
        "def prob(x):\n",
        "  return (x**2)*np.exp(-x**2)\n",
        "x1 = np.linspace(1,4,10)\n",
        "\n",
        "Prob_ea = quad(prob, x_min, np.inf)[0]\n",
        "Prob = Prob_ea*C_ea\n",
        "print(f'The probability of escape of nitrogen molecule is {Prob:.2e}')"
      ],
      "metadata": {
        "colab": {
          "base_uri": "https://localhost:8080/"
        },
        "id": "U3pSPY9OtNed",
        "outputId": "8d9e8f70-61b0-4720-d84d-affc834a54d1"
      },
      "execution_count": 18,
      "outputs": [
        {
          "output_type": "stream",
          "name": "stdout",
          "text": [
            "The probability of escape of nitrogen molecule is 7.63e-294\n"
          ]
        }
      ]
    },
    {
      "cell_type": "markdown",
      "source": [
        "### Part b"
      ],
      "metadata": {
        "id": "FqSIlIJy75ul"
      }
    },
    {
      "cell_type": "code",
      "source": [
        "M_h2 = 0.002/(6.022*10**23) # mass of hydrogen molecule\n",
        "M_he = 0.004/(6.022*10**23) # mass of helium atom\n",
        "x_minh = 11000/(np.sqrt(M_h2/2*k3*T_ea))\n",
        "x_minhe = 11000/(np.sqrt(M_he/2*k3*T_ea))\n",
        "Prob_h2 = quad(prob, x_minh, np.inf)[0]\n",
        "Prob_he = quad(prob, x_minhe, np.inf)[0]\n",
        "Probh2 = Prob_h2*C_ea\n",
        "Probhe = Prob_he*C_ea\n",
        "print(f'The probability of escape of hydrogen molecule is {Probh2:.2e}')\n",
        "print(f'The probability of escape of helium atom is {Probhe:.2e}')"
      ],
      "metadata": {
        "colab": {
          "base_uri": "https://localhost:8080/"
        },
        "id": "USLj8EZf8Tn4",
        "outputId": "921b27b4-a276-4e80-d122-e100038b19f4"
      },
      "execution_count": 19,
      "outputs": [
        {
          "output_type": "stream",
          "name": "stdout",
          "text": [
            "The probability of escape of hydrogen molecule is 0.00e+00\n",
            "The probability of escape of helium atom is 0.00e+00\n"
          ]
        }
      ]
    },
    {
      "cell_type": "markdown",
      "source": [
        "It is more probable for the nitrogen molecule to escape the upper surface of the Earth than the helium atom or hydrogen molecule. This could be explained by these difference in mass causing the $v_{max}$ of the hydrogen and helium to be significantly lower than the nitrogen molecule so 11000m/s is too far of a stretch from their respective $v_{max}$."
      ],
      "metadata": {
        "id": "slL26okp-K_v"
      }
    },
    {
      "cell_type": "markdown",
      "source": [
        "### Part C"
      ],
      "metadata": {
        "id": "lmjjEb6e_BKe"
      }
    },
    {
      "cell_type": "code",
      "source": [
        "T_ea = 1000 #K\n",
        "x_mo = 2400/422\n",
        "C_ea = 4*np.sqrt(np.pi)\n",
        "def prob(x):\n",
        "  return (x**2)*np.exp(-x**2)\n",
        "\n",
        "Prob_mo = quad(prob, x_mo, np.inf)[0]\n",
        "Prob = Prob_mo*C_ea\n",
        "print(f'The probability of escape on the moon is {Prob:.2e}')"
      ],
      "metadata": {
        "colab": {
          "base_uri": "https://localhost:8080/"
        },
        "id": "dP7mQiRk_K11",
        "outputId": "d45515e8-b54c-42cb-8cf2-83b0dbe34b89"
      },
      "execution_count": 20,
      "outputs": [
        {
          "output_type": "stream",
          "name": "stdout",
          "text": [
            "The probability of escape on the moon is 1.84e-13\n"
          ]
        }
      ]
    },
    {
      "cell_type": "markdown",
      "source": [
        "* This further explains my previous explanation as the closer the escape speed from the $v_{max}$ the more probable of it to happen."
      ],
      "metadata": {
        "id": "rDH24Hqr_rpT"
      }
    },
    {
      "cell_type": "markdown",
      "source": [
        "# Problem 6.47\n",
        "* We know that $l_{Q}$ = $\\frac{h}{\\sqrt2\\pi mkT}$ and when the translational motion of a molecule would freeze out, $l_{Q}$ = $L$.\n",
        "* So $T$ = $(\\frac{h}{L})^2\\frac{1}{2\\pi mk}$."
      ],
      "metadata": {
        "id": "Mmee3UEP_6f6"
      }
    },
    {
      "cell_type": "code",
      "source": [
        "h = 6.626*10**-34 #J*s\n",
        "L = 0.01 #m\n",
        "m = m_ni #kg\n",
        "T_est = (h/L)**2/(2*np.pi*m*k3)\n",
        "print(f'The estimated temperature is {T_est:.2e} K')"
      ],
      "metadata": {
        "colab": {
          "base_uri": "https://localhost:8080/"
        },
        "id": "ZxvpjLNi_9su",
        "outputId": "5b3348ca-55bd-4c40-c97a-9afc0331175b"
      },
      "execution_count": 21,
      "outputs": [
        {
          "output_type": "stream",
          "name": "stdout",
          "text": [
            "The estimated temperature is 1.09e-15 K\n"
          ]
        }
      ]
    },
    {
      "cell_type": "code",
      "source": [
        "# buc.notebook_to_pdf(repo, author = \"Ny Ary Razafindramamba\", title = \"Homework 6B\")"
      ],
      "metadata": {
        "id": "SloSB8-XIugA"
      },
      "execution_count": 22,
      "outputs": []
    },
    {
      "cell_type": "code",
      "source": [],
      "metadata": {
        "id": "cvh1Hvo51hrX"
      },
      "execution_count": 22,
      "outputs": []
    }
  ]
}